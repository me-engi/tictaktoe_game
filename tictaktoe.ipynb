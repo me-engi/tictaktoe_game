{
  "cells": [
    {
      "cell_type": "code",
      "execution_count": null,
      "metadata": {
        "colab": {
          "background_save": true,
          "base_uri": "https://localhost:8080/"
        },
        "id": "i13xJSOZL7Z4",
        "outputId": "7a04c79c-d9dd-405f-d587-8b7a0031d203"
      },
      "outputs": [
        {
          "name": "stdout",
          "output_type": "stream",
          "text": [
            "Welcome to Tic Tac Toe!\n",
            " | | \n",
            "-----\n",
            " | | \n",
            "-----\n",
            " | | \n",
            "Invalid input. Please try again.\n",
            "X| | \n",
            "-----\n",
            " | | \n",
            "-----\n",
            " | | \n",
            "X| | \n",
            "-----\n",
            " |O| \n",
            "-----\n",
            " | | \n",
            "X| | \n",
            "-----\n",
            " |O| \n",
            "-----\n",
            " | |X\n"
          ]
        }
      ],
      "source": [
        "board = [[' ', ' ', ' '],\n",
        "         [' ', ' ', ' '],\n",
        "         [' ', ' ', ' ']]\n",
        "\n",
        "def print_board(board):\n",
        "    for i in range(3):\n",
        "        print(\"|\".join(board[i]))\n",
        "        if i < 2:\n",
        "            print(\"-----\")\n",
        "\n",
        "def get_move(player):\n",
        "    while True:\n",
        "        try:\n",
        "            row = int(input(\"Enter row number (1-3) for player {}: \".format(player)))\n",
        "            col = int(input(\"Enter column number (1-3) for player {}: \".format(player)))\n",
        "            if row < 1 or row > 3 or col < 1 or col > 3:\n",
        "                raise ValueError\n",
        "            if board[row-1][col-1] != ' ':\n",
        "                raise ValueError\n",
        "            break\n",
        "        except ValueError:\n",
        "            print(\"Invalid input. Please try again.\")\n",
        "    return row, col\n",
        "\n",
        "def check_winner(board):\n",
        "    for i in range(3):\n",
        "        if board[i][0] == board[i][1] == board[i][2] != ' ':\n",
        "            return board[i][0]\n",
        "        if board[0][i] == board[1][i] == board[2][i] != ' ':\n",
        "            return board[0][i]\n",
        "    if board[0][0] == board[1][1] == board[2][2] != ' ':\n",
        "        return board[0][0]\n",
        "    if board[0][2] == board[1][1] == board[2][0] != ' ':\n",
        "        return board[0][2]\n",
        "    return None\n",
        "\n",
        "def play_game():\n",
        "    print(\"Welcome to Tic Tac Toe!\")\n",
        "    print_board(board)\n",
        "    player = 'X'\n",
        "    for i in range(9):\n",
        "        row, col = get_move(player)\n",
        "        board[row-1][col-1] = player\n",
        "        print_board(board)\n",
        "        winner = check_winner(board)\n",
        "        if winner:\n",
        "            print(\"Congratulations! Player {} wins!\".format(winner))\n",
        "            return\n",
        "        player = 'O' if player == 'X' else 'X'\n",
        "    print(\"It's a tie!\")\n",
        "\n",
        "play_game()\n"
      ]
    }
  ],
  "metadata": {
    "colab": {
      "provenance": []
    },
    "kernelspec": {
      "display_name": "Python 3",
      "name": "python3"
    },
    "language_info": {
      "name": "python"
    }
  },
  "nbformat": 4,
  "nbformat_minor": 0
}